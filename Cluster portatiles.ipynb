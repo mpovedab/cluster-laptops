{
 "cells": [
  {
   "cell_type": "code",
   "execution_count": 2,
   "metadata": {},
   "outputs": [],
   "source": [
    "#we import all packages needed\n",
    "import pandas as pd\n",
    "import numpy as np\n",
    "import matplotlib\n",
    "\n",
    "#we fix seed at 42\n",
    "np.random.seed(42)"
   ]
  },
  {
   "cell_type": "code",
   "execution_count": null,
   "metadata": {},
   "outputs": [],
   "source": [
    "#we have to open the excel file from Jupyter\n",
    "xls=pd.ExcelFile(\"top 800 portatiles 2020.xlsx\")\n",
    "print(xls.sheet_names) #doing that, we can see different sheets\n",
    "portatiles=xls.parse(\"Hoja1\") #we select the sheet we want\n",
    "print(portatiles) #this is the dataset we are going to use"
   ]
  },
  {
   "cell_type": "code",
   "execution_count": 4,
   "metadata": {},
   "outputs": [],
   "source": [
    "#we asign different names to categorical and numerical variables\n",
    "datos_numericos = portatiles.select_dtypes([int, float])\n",
    "datos_categoricos = portatiles.select_dtypes([object, \"category\"])"
   ]
  },
  {
   "cell_type": "code",
   "execution_count": null,
   "metadata": {},
   "outputs": [],
   "source": [
    "#we assign the mean to empty numerical cells\n",
    "for col in datos_numericos.columns:\n",
    "    datos_numericos[col].fillna(datos_numericos[col].mean(), inplace=True)"
   ]
  },
  {
   "cell_type": "code",
   "execution_count": 6,
   "metadata": {},
   "outputs": [],
   "source": [
    "#we import MinMaxScaler for normalizing numerical data, which is a must for using kmeans algorithm\n",
    "from sklearn.preprocessing import MinMaxScaler\n",
    "\n",
    "datos_numericos_normalizado = MinMaxScaler().fit_transform(datos_numericos)\n",
    "datos_numericos_normalizado = pd.DataFrame(datos_numericos_normalizado,\n",
    "                                               columns=datos_numericos.columns)"
   ]
  },
  {
   "cell_type": "code",
   "execution_count": 7,
   "metadata": {},
   "outputs": [],
   "source": [
    "#we create all columns for categorical data codified\n",
    "datos_categoricos_codificados = pd.get_dummies(datos_categoricos, drop_first=True)"
   ]
  },
  {
   "cell_type": "code",
   "execution_count": 8,
   "metadata": {},
   "outputs": [],
   "source": [
    "#the final file is the sum of all processed variables, normalized numerical data + codified categorical data\n",
    "portatiles_procesado = pd.concat([datos_numericos_normalizado, datos_categoricos_codificados], axis=1)"
   ]
  },
  {
   "cell_type": "code",
   "execution_count": null,
   "metadata": {},
   "outputs": [],
   "source": [
    "#we can see the total shape of the final dataset and the first values\n",
    "portatiles_procesado.shape\n",
    "portatiles_procesado.head()"
   ]
  },
  {
   "cell_type": "code",
   "execution_count": 10,
   "metadata": {},
   "outputs": [],
   "source": [
    "#we import kmeans algorithm\n",
    "from sklearn.cluster import KMeans"
   ]
  },
  {
   "cell_type": "code",
   "execution_count": null,
   "metadata": {},
   "outputs": [],
   "source": [
    "#we create kmeans estimator and we fit it, here we can change the number of clusters\n",
    "estimador_kmedias = KMeans(random_state=42, n_clusters=8)\n",
    "\n",
    "estimador_kmedias.fit(portatiles_procesado)"
   ]
  },
  {
   "cell_type": "code",
   "execution_count": null,
   "metadata": {},
   "outputs": [],
   "source": [
    "#now we create the clusters\n",
    "clusters = estimador_kmedias.labels_\n",
    "clusters"
   ]
  },
  {
   "cell_type": "code",
   "execution_count": null,
   "metadata": {},
   "outputs": [],
   "source": [
    "def resumen_cluster(cluster_id):\n",
    "    cluster = portatiles[clusters==cluster_id] #cluster is equal to cluster id we select\n",
    "    resumen_cluster = cluster[datos_categoricos.columns].mode().to_dict(orient=\"records\")[0] #mode will be shown for categorical variables\n",
    "    resumen_cluster.update(cluster.mean().to_dict()) #mean will be shown for numerical variables\n",
    "    resumen_cluster[\"cluster_id\"] = cluster_id #if we type resumen_cluster(x), it returns the cluster number x\n",
    "    return resumen_cluster\n",
    "\n",
    "#this is the first cluster\n",
    "resumen_cluster(0)"
   ]
  },
  {
   "cell_type": "code",
   "execution_count": 14,
   "metadata": {},
   "outputs": [],
   "source": [
    "#we define this for comparing all the clusters\n",
    "def comparar_clusters(*cluster_ids):\n",
    "    resumenes = []\n",
    "    for cluster_id in cluster_ids:\n",
    "        resumenes.append(resumen_cluster(cluster_id))\n",
    "    return pd.DataFrame(resumenes).set_index(\"cluster_id\").T"
   ]
  },
  {
   "cell_type": "code",
   "execution_count": null,
   "metadata": {},
   "outputs": [],
   "source": [
    "#this for seeing all the clusters we calculate\n",
    "comparar_clusters(*np.unique(clusters))"
   ]
  }
 ],
 "metadata": {
  "kernelspec": {
   "display_name": "Python 3",
   "language": "python",
   "name": "python3"
  },
  "language_info": {
   "codemirror_mode": {
    "name": "ipython",
    "version": 3
   },
   "file_extension": ".py",
   "mimetype": "text/x-python",
   "name": "python",
   "nbconvert_exporter": "python",
   "pygments_lexer": "ipython3",
   "version": "3.7.4"
  }
 },
 "nbformat": 4,
 "nbformat_minor": 4
}
